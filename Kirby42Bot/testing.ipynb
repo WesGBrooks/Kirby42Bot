{
 "cells": [
  {
   "cell_type": "code",
   "execution_count": 21,
   "metadata": {},
   "outputs": [],
   "source": [
    "resp = '2023-11-10_07:16:34 — :jackattack5821!jackattack5821@jackattack5821.tmi.twitch.tv PRIVMSG #scump :Munchies hit'\n",
    "\n",
    "values = resp.strip().split(' — ')\n",
    "timestamp = values[0]\n",
    "tw_message = values[1]\n",
    "username = tw_message.split('!')[0].strip(':')\n",
    "\n",
    "# user_handle = tw_message.split('!')[1].split(' ')[0]\n",
    "channel = tw_message.split('!')[1].split(' ')[2]\n",
    "chat_start = tw_message.find(channel)+len(channel)+2\n",
    "message = tw_message[chat_start:]"
   ]
  },
  {
   "cell_type": "code",
   "execution_count": 22,
   "metadata": {},
   "outputs": [],
   "source": [
    "import logging\n",
    "import socket\n",
    "import threading\n",
    "import requests\n",
    "import json\n",
    "from google.cloud import bigquery as bq\n",
    "\n",
    "# Create a logger instance\n",
    "logger = logging.getLogger(__name__)\n",
    "\n",
    "# # Initialize a BigQuery Client\n",
    "client = bq.Client.from_service_account_json(\"key.json\")\n",
    "\n",
    "table_id = 'kirby42bot.twitch_chats.twitch_chat_log'\n",
    "\n",
    "row_to_insert = {\n",
    "        \"timestamp\": timestamp.replace('_', ' '),\n",
    "        \"channel\": channel,\n",
    "        \"username\": username,\n",
    "        \"message\": message\n",
    "    }"
   ]
  },
  {
   "cell_type": "code",
   "execution_count": 23,
   "metadata": {},
   "outputs": [
    {
     "data": {
      "text/plain": [
       "Table(TableReference(DatasetReference('kirby42bot', 'twitch_chats'), 'twitch_chat_log'))"
      ]
     },
     "execution_count": 23,
     "metadata": {},
     "output_type": "execute_result"
    }
   ],
   "source": [
    "# Insert the row into the BigQuery table\n",
    "table = client.get_table(table_id)\n",
    "table"
   ]
  },
  {
   "cell_type": "code",
   "execution_count": 24,
   "metadata": {},
   "outputs": [
    {
     "data": {
      "text/plain": [
       "[]"
      ]
     },
     "execution_count": 24,
     "metadata": {},
     "output_type": "execute_result"
    }
   ],
   "source": [
    "client.insert_rows(table, [row_to_insert])"
   ]
  },
  {
   "cell_type": "code",
   "execution_count": 27,
   "metadata": {},
   "outputs": [],
   "source": [
    "import logging\n",
    "import socket\n",
    "import threading\n",
    "import requests\n",
    "import json\n",
    "from google.cloud import bigquery as bq\n",
    "from config import oauth_pw\n",
    "\n",
    "# Create a logger instance\n",
    "logger = logging.getLogger(__name__)\n",
    "\n",
    "# twitch info\n",
    "nickname = \"Kirby42Bot\"\n",
    "token = oauth_pw\n",
    "channels = [\"#dashy\", \"#luxdigitalchurch\", \"#jatelive\"]\n",
    "\n",
    "# # Initialize a BigQuery Client\n",
    "client = bq.Client.from_service_account_json(\"key.json\")\n",
    "\n",
    "table_id = 'kirby42bot.twitch_chats.twitch_chat_log'\n",
    "table = client.get_table(table_id)\n",
    "\n",
    "\n",
    "def connect_to_channel(nickname, token, channel):\n",
    "    server = \"irc.chat.twitch.tv\"\n",
    "    port = 6667\n",
    "    sock = socket.socket()\n",
    "    sock.connect((server, port))\n",
    "\n",
    "    sock.send(f\"PASS {token}\\n\".encode('utf-8'))\n",
    "    sock.send(f\"NICK {nickname}\\n\".encode('utf-8'))\n",
    "    sock.send(f\"JOIN {channel}\\n\".encode('utf-8'))\n",
    "\n",
    "    # Create a custom logger\n",
    "    logging.basicConfig(level=logging.DEBUG,\n",
    "                        format='%(asctime)s — %(message)s',\n",
    "                        datefmt='%Y-%m-%d_%H:%M:%S',\n",
    "                        handlers=[logging.FileHandler('chat.log', encoding='utf-8')])\n",
    "\n",
    "    while True:\n",
    "        resp = sock.recv(2048).decode('utf-8')\n",
    "        if resp.startswith('PING'):\n",
    "            sock.send(\"PONG\\n\".encode('utf-8'))\n",
    "        elif len(resp) > 0:\n",
    "            logging.info(resp)\n",
    "            # if resp.find('kirby42bot'):\n",
    "            #     continue\n",
    "            values = resp.strip().split(' — ')\n",
    "            timestamp = values[0]\n",
    "            tw_message = values[1]\n",
    "            username = tw_message.split('!')[0].strip(':')\n",
    "            # user_handle = tw_message.split('!')[1].split(' ')[0]\n",
    "            channel = tw_message.split('!')[1].split(' ')[2]\n",
    "            chat_start = tw_message.find(channel)+len(channel)+2\n",
    "            message = tw_message[chat_start:]\n",
    "            row_to_insert = {\n",
    "                \"timestamp\": timestamp.replace('_', ' '),\n",
    "                \"channel\": channel,\n",
    "                \"username\": username,\n",
    "                \"message\": message\n",
    "            }\n",
    "\n",
    "            logging.info(row_to_insert)\n",
    "            # Insert the row into the BigQuery table\n",
    "            errors = client.insert_rows(table, row_to_insert)\n",
    "\n",
    "            if errors == []:\n",
    "                logging.debug(\"New rows have been added.\")\n",
    "            else:\n",
    "                logging.error(f\"Error inserting row into BigQuery: {errors}\")\n",
    "                continue\n",
    "\n",
    "\n",
    "for channel in channels:\n",
    "    logger.debug(f'starting thread: {channel}')\n",
    "    t = threading.Thread(target=connect_to_channel,\n",
    "                         args=(nickname, token, channel))\n",
    "    t.start()"
   ]
  },
  {
   "cell_type": "code",
   "execution_count": null,
   "metadata": {},
   "outputs": [],
   "source": []
  }
 ],
 "metadata": {
  "kernelspec": {
   "display_name": "kirby42bot-Fzoq8Exj-py3.10",
   "language": "python",
   "name": "python3"
  },
  "language_info": {
   "codemirror_mode": {
    "name": "ipython",
    "version": 3
   },
   "file_extension": ".py",
   "mimetype": "text/x-python",
   "name": "python",
   "nbconvert_exporter": "python",
   "pygments_lexer": "ipython3",
   "version": "3.10.9"
  }
 },
 "nbformat": 4,
 "nbformat_minor": 2
}
